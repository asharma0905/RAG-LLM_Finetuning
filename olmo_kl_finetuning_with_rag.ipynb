{
 "cells": [
  {
   "cell_type": "code",
   "execution_count": null,
   "metadata": {},
   "outputs": [],
   "source": [
    "##### RAG NEW VERSION ##############\n",
    "import os\n",
    "from langchain.embeddings import HuggingFaceBgeEmbeddings\n",
    "from langchain_text_splitters import RecursiveCharacterTextSplitter\n",
    "from langchain_community.vectorstores import SKLearnVectorStore\n",
    "from langchain.prompts import PromptTemplate\n",
    "from langchain_core.output_parsers import StrOutputParser\n",
    "from langchain_community.document_loaders import PyPDFLoader\n",
    "from transformers import AutoTokenizer, AutoModelForCausalLM, pipeline\n",
    "import torch\n",
    "from langchain.chains import LLMChain\n",
    "from langchain_community.llms import HuggingFacePipeline\n",
    "import re\n",
    "import torch\n",
    "from transformers import AutoModelForCausalLM\n",
    "import numpy as np\n"
   ]
  },
  {
   "cell_type": "code",
   "execution_count": null,
   "metadata": {},
   "outputs": [],
   "source": [
    "import transformers\n",
    "transformers.__version__"
   ]
  },
  {
   "cell_type": "code",
   "execution_count": null,
   "metadata": {},
   "outputs": [],
   "source": [
    "def load_llama_model():\n",
    "    device = 'cuda'\n",
    "    model_id = \"/home/hice1/asharma838/scratch/OLMo-7B-0724-hf/\" \n",
    "    tokenizer = AutoTokenizer.from_pretrained(model_id)\n",
    "    model = AutoModelForCausalLM.from_pretrained(model_id, torch_dtype=torch.bfloat16, device_map=\"auto\")\n",
    "    return pipeline(\"text-generation\", model=model, tokenizer=tokenizer, max_new_tokens=256, temperature = 0.2)"
   ]
  },
  {
   "cell_type": "code",
   "execution_count": null,
   "metadata": {},
   "outputs": [],
   "source": [
    "LLM = load_llama_model()"
   ]
  },
  {
   "cell_type": "code",
   "execution_count": null,
   "metadata": {},
   "outputs": [],
   "source": [
    "torch.cuda.is_available()"
   ]
  },
  {
   "cell_type": "code",
   "execution_count": null,
   "metadata": {},
   "outputs": [],
   "source": [
    "text_splitter = RecursiveCharacterTextSplitter.from_tiktoken_encoder(\n",
    "    chunk_size=250, chunk_overlap=0)"
   ]
  },
  {
   "cell_type": "code",
   "execution_count": null,
   "metadata": {},
   "outputs": [],
   "source": [
    "file_path = \"/home/hice1/asharma838/scratch/PDF_Syllabus_Dataset/\"\n",
    "def load_documents():\n",
    "    docs = []\n",
    "    for file in os.listdir(file_path):\n",
    "        if file.endswith(\".pdf\"):\n",
    "            try:\n",
    "                loader = PyPDFLoader(os.path.join(file_path, file))\n",
    "                pdf_docs = loader.load()\n",
    "                docs.extend(pdf_docs)\n",
    "                # logger.info(f\"Loaded document: {file}\")\n",
    "            except Exception as e:\n",
    "                continue\n",
    "                # logger.error(f\"Error loading {file}: {e}\")\n",
    "    # logger.info(f\"Total documents loaded: {len(docs)}\")\n",
    "    return docs\n",
    "docs = load_documents()"
   ]
  },
  {
   "cell_type": "code",
   "execution_count": null,
   "metadata": {},
   "outputs": [],
   "source": [
    "doc_splits = text_splitter.split_documents(docs)"
   ]
  },
  {
   "cell_type": "code",
   "execution_count": null,
   "metadata": {},
   "outputs": [],
   "source": [
    "\n",
    "### setting up the prompt template ###\n",
    "prompt = PromptTemplate(\n",
    "    template=\"\"\"You are an assistant for question-answering tasks based on course content of Georgia Tech ECE department.\n",
    "    Use the following documents to answer the question.\n",
    "    Use five sentences maximum and keep the answer concise:\n",
    "    Question: {question}\n",
    "    Documents: {documents}\n",
    "    Answer:\n",
    "    \"\"\",\n",
    "    input_variables=[\"question\", \"documents\"],\n",
    ")"
   ]
  },
  {
   "cell_type": "code",
   "execution_count": null,
   "metadata": {},
   "outputs": [],
   "source": [
    "#### initialize the embedding model #### \n",
    "\n",
    "model_name = \"BAAI/bge-base-en\"\n",
    "encode_kwargs = {'normalize_embeddings' : True}\n",
    "model_norm = HuggingFaceBgeEmbeddings(model_name= model_name,\n",
    "model_kwargs = {'device' : 'cuda'}, encode_kwargs = encode_kwargs)\n",
    "\n",
    "#### initializing the vectorstore ####\n",
    "vectorstore = SKLearnVectorStore.from_documents(\n",
    "    documents=doc_splits,\n",
    "    embedding=model_norm,\n",
    ")\n",
    "retriever = vectorstore.as_retriever(k=3)"
   ]
  },
  {
   "cell_type": "code",
   "execution_count": null,
   "metadata": {},
   "outputs": [],
   "source": [
    "\n",
    "# Create an LLM wrapper for your Hugging Face pipeline\n",
    "llm = HuggingFacePipeline(pipeline=LLM)\n"
   ]
  },
  {
   "cell_type": "code",
   "execution_count": null,
   "metadata": {},
   "outputs": [],
   "source": [
    "# rag_chain = prompt | LLM | StrOutputParser()"
   ]
  },
  {
   "cell_type": "code",
   "execution_count": null,
   "metadata": {},
   "outputs": [],
   "source": [
    "# Create the LLMChain\n",
    "rag_chain = LLMChain(llm=llm, prompt=prompt)"
   ]
  },
  {
   "cell_type": "code",
   "execution_count": null,
   "metadata": {},
   "outputs": [],
   "source": [
    "class RAGapplication():\n",
    "    def __init__(self, retriever, rag_chain):\n",
    "        self.retriever = retriever\n",
    "        self.rag_chain = rag_chain\n",
    "\n",
    "    def run(self, question):\n",
    "        docs = self.retriever.invoke(question)\n",
    "        docs_texts = \"\\n\".join([str(n.page_content) for n in docs])\n",
    "        # print(docs_texts)\n",
    "        input_data = {\n",
    "            \"question\": str(question),\n",
    "            \"documents\": docs_texts\n",
    "        }\n",
    "        answer = self.rag_chain.invoke(input_data)\n",
    "        return answer\n",
    "    "
   ]
  },
  {
   "cell_type": "code",
   "execution_count": null,
   "metadata": {},
   "outputs": [],
   "source": [
    "rag_app = RAGapplication(retriever = retriever, rag_chain = rag_chain)"
   ]
  },
  {
   "cell_type": "code",
   "execution_count": null,
   "metadata": {},
   "outputs": [],
   "source": [
    "#answer = rag_app.run('what is the the course content for ECE 6250')"
   ]
  },
  {
   "cell_type": "code",
   "execution_count": null,
   "metadata": {},
   "outputs": [],
   "source": [
    "#ans= answer['text']"
   ]
  },
  {
   "cell_type": "code",
   "execution_count": null,
   "metadata": {},
   "outputs": [],
   "source": [
    "'''def extract_answer(text):\n",
    "    answer_start = text.find(\"Answer:\")\n",
    "    if answer_start == -1:\n",
    "        return \"Answer not found.\"\n",
    "    answer = text[answer_start + len(\"Answer:\"):].strip()\n",
    "    return answer\n",
    "ans_processed = extract_answer(ans)'''\n"
   ]
  },
  {
   "cell_type": "code",
   "execution_count": null,
   "metadata": {},
   "outputs": [],
   "source": [
    "#print(ans_processed, end ='\\n')"
   ]
  },
  {
   "cell_type": "code",
   "execution_count": null,
   "metadata": {},
   "outputs": [],
   "source": [
    "from huggingface_hub import notebook_login\n",
    "notebook_login()"
   ]
  },
  {
   "cell_type": "code",
   "execution_count": null,
   "metadata": {},
   "outputs": [],
   "source": [
    "# Installing More Dependencies\n",
    "import torch\n",
    "from datasets import load_dataset, Dataset\n",
    "from peft import LoraConfig, AutoPeftModelForCausalLM\n",
    "from transformers import AutoModelForCausalLM, AutoTokenizer, BitsAndBytesConfig, TrainingArguments\n",
    "from trl import SFTTrainer\n",
    "import os"
   ]
  },
  {
   "cell_type": "code",
   "execution_count": null,
   "metadata": {},
   "outputs": [],
   "source": [
    "model_id=\"/home/hice1/asharma838/scratch/OLMo-7B-0724-hf/\""
   ]
  },
  {
   "cell_type": "code",
   "execution_count": null,
   "metadata": {},
   "outputs": [],
   "source": [
    "def get_model_and_tokenizer(model_id):\n",
    "  tokenizer = AutoTokenizer.from_pretrained(model_id)\n",
    "  tokenizer.pad_token = tokenizer.eos_token\n",
    "  bnb_config = BitsAndBytesConfig(\n",
    "      load_in_4bit=True, bnb_4bit_quant_type=\"nf4\", bnb_4bit_compute_dtype=\"float16\", bnb_4bit_use_double_quant=True\n",
    "  )\n",
    "  model = AutoModelForCausalLM.from_pretrained(\n",
    "      model_id, quantization_config=bnb_config, device_map=\"auto\"\n",
    "  )\n",
    "  model.config.use_cache=False\n",
    "  model.config.pretraining_tp=1\n",
    "  return model, tokenizer"
   ]
  },
  {
   "cell_type": "code",
   "execution_count": null,
   "metadata": {},
   "outputs": [],
   "source": [
    "model, tokenizer = get_model_and_tokenizer(model_id)"
   ]
  },
  {
   "cell_type": "code",
   "execution_count": null,
   "metadata": {},
   "outputs": [],
   "source": [
    "##### running an inference ######\n",
    "from transformers import GenerationConfig\n",
    "from time import perf_counter\n",
    "def generate_response(user_input):\n",
    "  prompt = formatted_prompt(user_input)\n",
    "  print(prompt)\n",
    "  inputs = tokenizer([prompt], return_tensors=\"pt\")\n",
    "  generation_config = GenerationConfig(penalty_alpha=0.6,do_sample = True,\n",
    "      top_k=5,temperature=0.5,repetition_penalty=1.2,\n",
    "      max_new_tokens=60,pad_token_id=tokenizer.eos_token_id\n",
    "  )\n",
    "  start_time = perf_counter()\n",
    "  inputs = tokenizer(prompt, return_tensors=\"pt\").to('cuda')\n",
    "  outputs = model.generate(**inputs, generation_config=generation_config)\n",
    "  theresponse = (tokenizer.decode(outputs[0], skip_special_tokens=True))\n",
    "  print(tokenizer.decode(outputs[0], skip_special_tokens=True))\n",
    "  output_time = perf_counter() - start_time\n",
    "  print(f\"Time taken for inference: {round(output_time,2)} seconds\")"
   ]
  },
  {
   "cell_type": "code",
   "execution_count": null,
   "metadata": {},
   "outputs": [],
   "source": [
    "def formatted_prompt(question)-> str:\n",
    "    return f\"<|im_start|>user\\n{question}<|im_end|>\\n<|im_start|>assistant:\""
   ]
  },
  {
   "cell_type": "code",
   "execution_count": null,
   "metadata": {},
   "outputs": [],
   "source": [
    "generate_response(user_input='What is Georgia Tech? How good it is?')"
   ]
  },
  {
   "cell_type": "code",
   "execution_count": null,
   "metadata": {},
   "outputs": [],
   "source": [
    "#### preparing the dataset #####\n",
    "\n",
    "import pandas as pd\n",
    "def load_qa_pairs(data_path):\n",
    "    data = pd.read_csv(data_path, encoding = \"latin-1\")\n",
    "    return data"
   ]
  },
  {
   "cell_type": "code",
   "execution_count": null,
   "metadata": {},
   "outputs": [],
   "source": [
    "data_path = \"/home/hice1/asharma838/scratch/Query_Response_Pairs_ConvAI_Project.csv\"\n",
    "data = load_qa_pairs(data_path)"
   ]
  },
  {
   "cell_type": "code",
   "execution_count": null,
   "metadata": {},
   "outputs": [],
   "source": [
    "training_data = [{\"prompt\": prompt, \"response\": response} for prompt, response in zip(data['Query'], data['Response'])]"
   ]
  },
  {
   "cell_type": "code",
   "execution_count": null,
   "metadata": {},
   "outputs": [],
   "source": [
    "training_data"
   ]
  },
  {
   "cell_type": "code",
   "execution_count": null,
   "metadata": {},
   "outputs": [],
   "source": [
    "def format_training_data(training_data):\n",
    "    data_df = pd.DataFrame(training_data)\n",
    "    data_df['text'] = data_df[['prompt', 'response']].apply(lambda x: \"<|im_start|>user\\n\"+ str(x['prompt']) + \" <|im_end|>\\n<|im_start|>assistant\\n\" + str(x['response']) + \"<|im_end|>\\n\", axis = 1)\n",
    "    data = Dataset.from_pandas(data_df)\n",
    "    return data\n"
   ]
  },
  {
   "cell_type": "code",
   "execution_count": null,
   "metadata": {},
   "outputs": [],
   "source": [
    "data = format_training_data(training_data)"
   ]
  },
  {
   "cell_type": "code",
   "execution_count": null,
   "metadata": {},
   "outputs": [],
   "source": [
    "from peft import LoraConfig, get_peft_model"
   ]
  },
  {
   "cell_type": "code",
   "execution_count": null,
   "metadata": {},
   "outputs": [],
   "source": [
    "##### fine tuning ######\n",
    "peft_config = LoraConfig(\n",
    "        r=8, lora_alpha=16, lora_dropout=0.05, bias=\"none\", target_modules=[\"q_proj\", \"v_proj\"], task_type=\"CAUSAL_LM\"\n",
    ")\n",
    "model = get_peft_model(model, peft_config)"
   ]
  },
  {
   "cell_type": "code",
   "execution_count": null,
   "metadata": {},
   "outputs": [],
   "source": [
    "?? get_peft_model"
   ]
  },
  {
   "cell_type": "code",
   "execution_count": null,
   "metadata": {},
   "outputs": [],
   "source": [
    "output_model = \"/home/hice1/asharma838/scratch/rag_model_kl_finetuned_results\""
   ]
  },
  {
   "cell_type": "code",
   "execution_count": null,
   "metadata": {},
   "outputs": [],
   "source": [
    "\n",
    "training_arguments = TrainingArguments(\n",
    "        output_dir=output_model,\n",
    "        per_device_train_batch_size=4,\n",
    "        gradient_accumulation_steps=8,\n",
    "        optim=\"paged_adamw_32bit\",\n",
    "        learning_rate=3e-4,\n",
    "        lr_scheduler_type=\"cosine\",\n",
    "        save_strategy=\"epoch\",\n",
    "        logging_steps=10,\n",
    "        num_train_epochs=8,\n",
    "        max_steps=250,\n",
    "        fp16=True,\n",
    "        report_to = \"tensorboard\"\n",
    "    )"
   ]
  },
  {
   "cell_type": "code",
   "execution_count": null,
   "metadata": {},
   "outputs": [],
   "source": [
    "import torch.nn.functional as F\n",
    "from transformers import Trainer\n",
    "\n",
    "class CustomKLDivergenceTrainer(SFTTrainer):\n",
    "    def compute_loss(self, model, inputs, return_outputs=False, num_items_in_batch=None):\n",
    "        labels = inputs.pop(\"labels\")\n",
    "        outputs = model(**inputs)\n",
    "        logits = outputs.logits.float()\n",
    "        logits = logits.view(-1, logits.size(-1))\n",
    "        labels = labels.long().view(-1)\n",
    "\n",
    "        # Compute KL-divergence loss\n",
    "        p = F.softmax(logits[:,0], dim=-1)\n",
    "        q = F.softmax(labels.float(), dim=-1)\n",
    "        kl_div_loss = F.kl_div(p.log(), q, reduction='batchmean', log_target=False)\n",
    "\n",
    "        loss = kl_div_loss\n",
    "\n",
    "        return (loss, outputs) if return_outputs else loss"
   ]
  },
  {
   "cell_type": "code",
   "execution_count": null,
   "metadata": {},
   "outputs": [],
   "source": [
    "trainer = CustomKLDivergenceTrainer(\n",
    "    model=model,\n",
    "    args=training_arguments,\n",
    "    train_dataset=data,\n",
    "    dataset_text_field=\"text\",\n",
    "    tokenizer=tokenizer,\n",
    "    packing=False,\n",
    "    max_seq_length=256\n",
    ")"
   ]
  },
  {
   "cell_type": "code",
   "execution_count": null,
   "metadata": {},
   "outputs": [],
   "source": [
    "\n",
    "trainer = SFTTrainer(\n",
    "        model=model,\n",
    "        train_dataset=data,\n",
    "        peft_config=peft_config,\n",
    "        dataset_text_field=\"text\",\n",
    "        args=training_arguments,\n",
    "        tokenizer=tokenizer,\n",
    "        packing=False,\n",
    "        max_seq_length=256\n",
    "    )\n",
    "     "
   ]
  },
  {
   "cell_type": "code",
   "execution_count": null,
   "metadata": {},
   "outputs": [],
   "source": [
    "trainer.train()"
   ]
  },
  {
   "cell_type": "code",
   "execution_count": null,
   "metadata": {},
   "outputs": [],
   "source": [
    "#### running inference #####"
   ]
  },
  {
   "cell_type": "code",
   "execution_count": null,
   "metadata": {},
   "outputs": [],
   "source": [
    "model_id = \"/home/hice1/asharma838/scratch/rag_model_kl_finetuned_results/checkpoint-250\""
   ]
  },
  {
   "cell_type": "code",
   "execution_count": null,
   "metadata": {},
   "outputs": [],
   "source": [
    "def get_model_and_tokenizer2(model_id):\n",
    "    tokenizer = AutoTokenizer.from_pretrained(model_id)\n",
    "    model = AutoModelForCausalLM.from_pretrained(model_id, torch_dtype=torch.bfloat16, device_map=\"auto\")\n",
    "    return pipeline(\"text-generation\", model=model, tokenizer=tokenizer, max_new_tokens=256, temperature = 0.2)"
   ]
  },
  {
   "cell_type": "code",
   "execution_count": null,
   "metadata": {},
   "outputs": [],
   "source": [
    "def get_model_and_tokenizer(model_id):\n",
    "    tokenizer = AutoTokenizer.from_pretrained(model_id)\n",
    "    tokenizer.pad_token = tokenizer.eos_token\n",
    "    bnb_config = BitsAndBytesConfig(\n",
    "      load_in_4bit=True, bnb_4bit_quant_type=\"nf4\", bnb_4bit_compute_dtype=\"float16\", bnb_4bit_use_double_quant=True\n",
    "    )\n",
    "    model = AutoModelForCausalLM.from_pretrained(\n",
    "        model_id, quantization_config=bnb_config, device_map=\"auto\"\n",
    "    )\n",
    "    model.config.use_cache=False\n",
    "    model.config.pretraining_tp=1\n",
    "    return pipeline(\"text-generation\", model=model, tokenizer=tokenizer, max_new_tokens=256, temperature = 0.2)"
   ]
  },
  {
   "cell_type": "code",
   "execution_count": null,
   "metadata": {},
   "outputs": [],
   "source": [
    "model = get_model_and_tokenizer2(model_id)"
   ]
  },
  {
   "cell_type": "code",
   "execution_count": null,
   "metadata": {},
   "outputs": [],
   "source": [
    "from transformers import GenerationConfig\n",
    "from time import perf_counter\n",
    "def generate_response(user_input):\n",
    "  prompt = formatted_prompt(user_input)\n",
    "  # inputs = tokenizer([prompt], return_tensors=\"pt\")\n",
    "  generation_config = GenerationConfig(penalty_alpha=0.6,do_sample = True,\n",
    "      top_k=5,temperature=0.2,repetition_penalty=1.2,\n",
    "      max_new_tokens=80,pad_token_id=tokenizer.eos_token_id\n",
    "  )\n",
    "  start_time = perf_counter()\n",
    "  inputs = tokenizer(prompt, return_tensors=\"pt\").to('cuda')\n",
    "  outputs = model.generate(**inputs, generation_config=generation_config)\n",
    "  theresponse = (tokenizer.decode(outputs[0], skip_special_tokens=True))\n",
    "  print(tokenizer.decode(outputs[0], skip_special_tokens=True))\n",
    "  output_time = perf_counter() - start_time\n",
    "  print(f\"Time taken for inference: {round(output_time,2)} seconds\")"
   ]
  },
  {
   "cell_type": "code",
   "execution_count": null,
   "metadata": {},
   "outputs": [],
   "source": [
    "def formatted_prompt(question)-> str:\n",
    "    return f\"<|im_start|>user\\n{question}<|im_end|>\\n<|im_start|>assistant:\""
   ]
  },
  {
   "cell_type": "code",
   "execution_count": null,
   "metadata": {},
   "outputs": [],
   "source": [
    "generate_response(user_input= \"What is the course's policy on late assignments for ECE 8804 VLSI Design 1?\")"
   ]
  },
  {
   "cell_type": "code",
   "execution_count": null,
   "metadata": {},
   "outputs": [],
   "source": [
    "text_splitter = RecursiveCharacterTextSplitter.from_tiktoken_encoder(\n",
    "    chunk_size=250, chunk_overlap=0)\n",
    "\n",
    "file_path = \"/home/hice1/asharma838/scratch/PDF_Syllabus_Dataset\"\n",
    "def load_documents():\n",
    "    docs = []\n",
    "    for file in os.listdir(file_path):\n",
    "        if file.endswith(\".pdf\"):\n",
    "            try:\n",
    "                loader = PyPDFLoader(os.path.join(file_path, file))\n",
    "                pdf_docs = loader.load()\n",
    "                docs.extend(pdf_docs)\n",
    "                logger.info(f\"Loaded document: {file}\")\n",
    "            except Exception as e:\n",
    "                continue\n",
    "                logger.error(f\"Error loading {file}: {e}\")\n",
    "    #logger.info(f\"Total documents loaded: {len(docs)}\")\n",
    "    return docs\n",
    "docs = load_documents()\n",
    "doc_splits = text_splitter.split_documents(docs)\n",
    "\n",
    "\n",
    "## setting up prompt template\n",
    "prompt = PromptTemplate(\n",
    "    template=\"\"\"You are an assistant for question-answering tasks based on course content of Georgia Tech ECE department.\n",
    "    Use the following documents to answer the question.\n",
    "    Use five sentences maximum and keep the answer concise:\n",
    "    Question: {question}\n",
    "    Documents: {documents}\n",
    "    Answer:\n",
    "    \"\"\",\n",
    "    input_variables=[\"question\", \"documents\"],\n",
    ")\n",
    "\n",
    "#### initialize the embedding model #### \n",
    "\n",
    "model_name = \"BAAI/bge-base-en\"\n",
    "encode_kwargs = {'normalize_embeddings' : True}\n",
    "model_norm = HuggingFaceBgeEmbeddings(model_name= model_name,\n",
    "model_kwargs = {'device' : 'cuda'}, encode_kwargs = encode_kwargs)\n",
    "\n",
    "#### initializing the vectorstore ####\n",
    "vectorstore = SKLearnVectorStore.from_documents(\n",
    "    documents=doc_splits,\n",
    "    embedding=model_norm,\n",
    ")\n",
    "retriever = vectorstore.as_retriever(k=3)"
   ]
  },
  {
   "cell_type": "code",
   "execution_count": null,
   "metadata": {},
   "outputs": [],
   "source": [
    "# Create an LLM wrapper for your Hugging Face pipeline\n",
    "llm = HuggingFacePipeline(pipeline=model)"
   ]
  },
  {
   "cell_type": "code",
   "execution_count": null,
   "metadata": {},
   "outputs": [],
   "source": [
    "# Create the LLMChain\n",
    "rag_chain = LLMChain(llm=llm, prompt=prompt)"
   ]
  },
  {
   "cell_type": "code",
   "execution_count": null,
   "metadata": {},
   "outputs": [],
   "source": [
    "class RAGapplication():\n",
    "    def __init__(self, retriever, rag_chain):\n",
    "        self.retriever = retriever\n",
    "        self.rag_chain = rag_chain\n",
    "\n",
    "    def run(self, question):\n",
    "        docs = self.retriever.invoke(question)\n",
    "        docs_texts = \"\\n\".join([str(n.page_content) for n in docs])\n",
    "        # print(docs_texts)\n",
    "        input_data = {\n",
    "            \"question\": str(question),\n",
    "            \"documents\": docs_texts\n",
    "        }\n",
    "        answer = self.rag_chain.invoke(input_data)\n",
    "        return answer"
   ]
  },
  {
   "cell_type": "code",
   "execution_count": null,
   "metadata": {},
   "outputs": [],
   "source": [
    "rag_app = RAGapplication(retriever = retriever, rag_chain = rag_chain)"
   ]
  },
  {
   "cell_type": "code",
   "execution_count": null,
   "metadata": {},
   "outputs": [],
   "source": [
    "answer = rag_app.run('what is the the course content for ECE 6250')"
   ]
  },
  {
   "cell_type": "code",
   "execution_count": null,
   "metadata": {},
   "outputs": [],
   "source": [
    "ans= answer['text']"
   ]
  },
  {
   "cell_type": "code",
   "execution_count": null,
   "metadata": {},
   "outputs": [],
   "source": [
    "def extract_answer(text):\n",
    "    answer_start = text.find(\"Answer:\")\n",
    "    if answer_start == -1:\n",
    "        return \"Answer not found.\"\n",
    "    answer = text[answer_start + len(\"Answer:\"):].strip()\n",
    "    return answer\n",
    "ans_processed = extract_answer(ans)"
   ]
  },
  {
   "cell_type": "code",
   "execution_count": null,
   "metadata": {},
   "outputs": [],
   "source": [
    "print(ans_processed, end ='\\n')"
   ]
  },
  {
   "cell_type": "code",
   "execution_count": null,
   "metadata": {},
   "outputs": [],
   "source": [
    "############## EVALUATING METRICS #####################\n",
    "\n",
    "import pandas as pd\n",
    "from datasets import Dataset\n",
    "\n",
    "# Load the Excel file\n",
    "file_path = \"/home/hice1/asharma838/scratch/Query_Response_Pairs_ConvAI_Project.xlsx\"  # Replace with your file path\n",
    "df = pd.read_excel(file_path)\n",
    "\n",
    "\n",
    "df = df.rename(columns={\"Query\": \"question\", \"Response\": \"answer\"})\n",
    "# Convert DataFrame to Hugging Face Dataset\n",
    "dataset = Dataset.from_pandas(df)\n",
    "\n",
    "# Split dataset into train and test (if needed)\n",
    "train_test_split = dataset.train_test_split(test_size=0.1)\n",
    "train_dataset = train_test_split[\"train\"]\n",
    "test_dataset = train_test_split[\"test\"]\n",
    "\n",
    "# Convert the dataset to a list of dictionaries with \"question\" and \"answer\" fields\n",
    "questions = test_dataset[\"question\"]\n",
    "answers = test_dataset[\"answer\"]"
   ]
  },
  {
   "cell_type": "code",
   "execution_count": null,
   "metadata": {},
   "outputs": [],
   "source": [
    "import evaluate\n",
    "import nltk\n",
    "from nltk.translate.meteor_score import meteor_score\n",
    "\n",
    "# Download the WordNet corpus and other necessary resources\n",
    "nltk.download('wordnet')\n",
    "nltk.download('omw-1.4')  # Optional, for multilingual support\n",
    "\n",
    "# Load the evaluation metrics\n",
    "em_metric = evaluate.load(\"exact_match\")\n",
    "f1_metric = evaluate.load(\"squad_v2\")\n",
    "bleu_metric = evaluate.load(\"bleu\")\n",
    "rouge_metric = evaluate.load(\"rouge\")"
   ]
  },
  {
   "cell_type": "code",
   "execution_count": null,
   "metadata": {},
   "outputs": [],
   "source": [
    "from tqdm import tqdm\n",
    "\n",
    "# Initialize lists to store ground truth and predicted answers\n",
    "ground_truths = []\n",
    "predictions = []\n",
    "\n",
    "# Iterate over each example in the dataset\n",
    "for example in tqdm(test_dataset):\n",
    "    question = example[\"question\"]\n",
    "    true_answer = example[\"answer\"]\n",
    "    \n",
    "    # Generate answer using the RAG model\n",
    "    answer = rag_app.run(question)\n",
    "    generated_answer = extract_answer(answer['text'])\n",
    "    #generated_answer = generate_answer(question)\n",
    "    \n",
    "    # Append to lists for evaluation\n",
    "    ground_truths.append([true_answer])  # BLEU expects a list of references\n",
    "    predictions.append(generated_answer)\n",
    "\n",
    "predictions = [pred.replace(\"\\n\", \" \").strip() for pred in predictions]\n",
    "ground_truths = [[ref.replace(\"\\n\", \" \").strip() for ref in ref_list] for ref_list in ground_truths]\n",
    "# Calculate Exact Match and F1 Score\n",
    "em_score = em_metric.compute(predictions=predictions, references=[gt[0] for gt in ground_truths])\n",
    "\n",
    "# Calculate BLEU\n",
    "bleu_score = bleu_metric.compute(predictions=predictions, references=ground_truths)\n",
    "\n",
    "# Calculate ROUGE\n",
    "rouge_score = rouge_metric.compute(predictions=predictions, references=[gt[0] for gt in ground_truths])\n",
    "\n",
    "# Calculate METEOR\n",
    "meteor = meteor_score(ground_truths, predictions)\n",
    "\n",
    "# Print results\n",
    "print(\"Exact Match (EM):\", em_score[\"exact_match\"])\n",
    "print(\"BLEU Score:\", bleu_score[\"bleu\"])\n",
    "print(\"ROUGE Score:\", rouge_score)  # Contains rouge1, rouge2, and rougeL\n",
    "print(\"METEOR Score:\", meteor)\n"
   ]
  }
 ],
 "metadata": {
  "kernelspec": {
   "display_name": "cAI8803-gpu",
   "language": "python",
   "name": "python3"
  },
  "language_info": {
   "codemirror_mode": {
    "name": "ipython",
    "version": 3
   },
   "file_extension": ".py",
   "mimetype": "text/x-python",
   "name": "python",
   "nbconvert_exporter": "python",
   "pygments_lexer": "ipython3",
   "version": "3.10.15"
  },
  "orig_nbformat": 4
 },
 "nbformat": 4,
 "nbformat_minor": 2
}
