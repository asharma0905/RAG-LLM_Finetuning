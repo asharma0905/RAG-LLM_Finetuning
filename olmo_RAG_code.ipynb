{
 "cells": [
  {
   "cell_type": "code",
   "execution_count": null,
   "metadata": {},
   "outputs": [],
   "source": [
    "import os\n",
    "from langchain.embeddings import HuggingFaceBgeEmbeddings\n",
    "from langchain_text_splitters import RecursiveCharacterTextSplitter\n",
    "from langchain_community.vectorstores import SKLearnVectorStore\n",
    "from langchain.prompts import PromptTemplate\n",
    "from langchain_core.output_parsers import StrOutputParser\n",
    "from langchain_community.document_loaders import PyPDFLoader\n",
    "from transformers import AutoTokenizer, AutoModelForCausalLM, pipeline\n",
    "import torch\n",
    "from langchain.chains import LLMChain\n",
    "from langchain_community.llms import HuggingFacePipeline\n",
    "import tqdm as tqdm\n",
    "import torch\n",
    "from transformers import AutoModelForCausalLM\n",
    "import numpy as np"
   ]
  },
  {
   "cell_type": "code",
   "execution_count": null,
   "metadata": {},
   "outputs": [],
   "source": [
    "def load_olmo_model():\n",
    "    device = 'cuda'\n",
    "    model_id = \"/home/hice1/asharma838/scratch/OLMo-7B-0724-hf/\" \n",
    "    tokenizer = AutoTokenizer.from_pretrained(model_id)\n",
    "    model = AutoModelForCausalLM.from_pretrained(model_id, torch_dtype=torch.bfloat16, device_map=\"auto\")\n",
    "    return pipeline(\"text-generation\", model=model, tokenizer=tokenizer, max_new_tokens=256, temperature = 0.2)"
   ]
  },
  {
   "cell_type": "code",
   "execution_count": null,
   "metadata": {},
   "outputs": [],
   "source": [
    "olmo = load_olmo_model()"
   ]
  },
  {
   "cell_type": "code",
   "execution_count": null,
   "metadata": {},
   "outputs": [],
   "source": [
    "text_splitter = RecursiveCharacterTextSplitter.from_tiktoken_encoder(\n",
    "    chunk_size=250, chunk_overlap=0)\n",
    "\n",
    "file_path = \"/home/hice1/asharma838/scratch/PDF_Syllabus_Dataset\"\n",
    "def load_documents():\n",
    "    docs = []\n",
    "    for file in os.listdir(file_path):\n",
    "        if file.endswith(\".pdf\"):\n",
    "            try:\n",
    "                loader = PyPDFLoader(os.path.join(file_path, file))\n",
    "                pdf_docs = loader.load()\n",
    "                docs.extend(pdf_docs)\n",
    "                logger.info(f\"Loaded document: {file}\")\n",
    "            except Exception as e:\n",
    "                continue\n",
    "                logger.error(f\"Error loading {file}: {e}\")\n",
    "    #logger.info(f\"Total documents loaded: {len(docs)}\")\n",
    "    return docs\n",
    "docs = load_documents()\n",
    "doc_splits = text_splitter.split_documents(docs)\n",
    "\n",
    "\n",
    "## setting up prompt template\n",
    "prompt = PromptTemplate(\n",
    "    template=\"\"\"You are an assistant for question-answering tasks based on course content of Georgia Tech ECE department.\n",
    "    Use the following documents to answer the question.\n",
    "    Use five sentences maximum and keep the answer concise:\n",
    "    Question: {question}\n",
    "    Documents: {documents}\n",
    "    Answer:\n",
    "    \"\"\",\n",
    "    input_variables=[\"question\", \"documents\"],\n",
    ")\n",
    "\n",
    "#### initialize the embedding model #### \n",
    "\n",
    "model_name = \"BAAI/bge-base-en\"\n",
    "encode_kwargs = {'normalize_embeddings' : True}\n",
    "model_norm = HuggingFaceBgeEmbeddings(model_name= model_name,\n",
    "model_kwargs = {'device' : 'cuda'}, encode_kwargs = encode_kwargs)\n",
    "\n",
    "#### initializing the vectorstore ####\n",
    "vectorstore = SKLearnVectorStore.from_documents(\n",
    "    documents=doc_splits,\n",
    "    embedding=model_norm,\n",
    ")\n",
    "retriever = vectorstore.as_retriever(k=3)"
   ]
  },
  {
   "cell_type": "code",
   "execution_count": null,
   "metadata": {},
   "outputs": [],
   "source": [
    "# Create an LLM wrapper for your Hugging Face pipeline\n",
    "llm = HuggingFacePipeline(pipeline=olmo)"
   ]
  },
  {
   "cell_type": "code",
   "execution_count": null,
   "metadata": {},
   "outputs": [],
   "source": [
    "# Create the LLMChain\n",
    "rag_chain = LLMChain(llm=llm, prompt=prompt)"
   ]
  },
  {
   "cell_type": "code",
   "execution_count": null,
   "metadata": {},
   "outputs": [],
   "source": [
    "class RAGapplication():\n",
    "    def __init__(self, retriever, rag_chain):\n",
    "        self.retriever = retriever\n",
    "        self.rag_chain = rag_chain\n",
    "\n",
    "    def run(self, question):\n",
    "        docs = self.retriever.invoke(question)\n",
    "        docs_texts = \"\\n\".join([str(n.page_content) for n in docs])\n",
    "        # print(docs_texts)\n",
    "        input_data = {\n",
    "            \"question\": str(question),\n",
    "            \"documents\": docs_texts\n",
    "        }\n",
    "        answer = self.rag_chain.invoke(input_data)\n",
    "        return answer"
   ]
  },
  {
   "cell_type": "code",
   "execution_count": null,
   "metadata": {},
   "outputs": [],
   "source": [
    "rag_app = RAGapplication(retriever = retriever, rag_chain = rag_chain)"
   ]
  },
  {
   "cell_type": "code",
   "execution_count": null,
   "metadata": {},
   "outputs": [],
   "source": [
    "answer = rag_app.run('what is the course content for ECE6254')"
   ]
  },
  {
   "cell_type": "code",
   "execution_count": null,
   "metadata": {},
   "outputs": [],
   "source": [
    "ans= answer['text']"
   ]
  },
  {
   "cell_type": "code",
   "execution_count": null,
   "metadata": {},
   "outputs": [],
   "source": [
    "def extract_answer(text):\n",
    "    answer_start = text.find(\"Answer:\")\n",
    "    if answer_start == -1:\n",
    "        return \"Answer not found.\"\n",
    "    answer = text[answer_start + len(\"Answer:\"):].strip()\n",
    "    return answer\n",
    "ans_processed = extract_answer(ans)"
   ]
  },
  {
   "cell_type": "code",
   "execution_count": null,
   "metadata": {},
   "outputs": [],
   "source": [
    "print(ans_processed, end ='\\n')"
   ]
  },
  {
   "cell_type": "code",
   "execution_count": null,
   "metadata": {},
   "outputs": [],
   "source": [
    "############## EVALUATING METRICS #####################\n",
    "\n",
    "import pandas as pd\n",
    "from datasets import Dataset\n",
    "\n",
    "# Load the Excel file\n",
    "file_path = \"/home/hice1/asharma838/scratch/Query_Response_Pairs_ConvAI_Project.xlsx\"  # Replace with your file path\n",
    "df = pd.read_excel(file_path)\n",
    "\n",
    "\n",
    "df = df.rename(columns={\"Query\": \"question\", \"Response\": \"answer\"})\n",
    "# Convert DataFrame to Hugging Face Dataset\n",
    "dataset = Dataset.from_pandas(df)\n",
    "\n",
    "# Split dataset into train and test (if needed)\n",
    "train_test_split = dataset.train_test_split(test_size=0.1)\n",
    "train_dataset = train_test_split[\"train\"]\n",
    "test_dataset = train_test_split[\"test\"]\n",
    "\n",
    "# Convert the dataset to a list of dictionaries with \"question\" and \"answer\" fields\n",
    "questions = test_dataset[\"question\"]\n",
    "answers = test_dataset[\"answer\"]"
   ]
  },
  {
   "cell_type": "code",
   "execution_count": null,
   "metadata": {},
   "outputs": [],
   "source": [
    "import evaluate\n",
    "import nltk\n",
    "from nltk.translate.meteor_score import meteor_score\n",
    "\n",
    "# Download the WordNet corpus and other necessary resources\n",
    "nltk.download('wordnet')\n",
    "nltk.download('omw-1.4')  # Optional, for multilingual support\n",
    "\n",
    "# Load the evaluation metrics\n",
    "em_metric = evaluate.load(\"exact_match\")\n",
    "f1_metric = evaluate.load(\"squad_v2\")\n",
    "bleu_metric = evaluate.load(\"bleu\")\n",
    "rouge_metric = evaluate.load(\"rouge\")"
   ]
  },
  {
   "cell_type": "code",
   "execution_count": null,
   "metadata": {},
   "outputs": [],
   "source": [
    "from tqdm import tqdm\n",
    "\n",
    "# Initialize lists to store ground truth and predicted answers\n",
    "ground_truths = []\n",
    "predictions = []\n",
    "\n",
    "# Iterate over each example in the dataset\n",
    "for example in tqdm(test_dataset):\n",
    "    question = example[\"question\"]\n",
    "    true_answer = example[\"answer\"]\n",
    "    \n",
    "    # Generate answer using the RAG model\n",
    "    answer = rag_app.run(question)\n",
    "    generated_answer = extract_answer(answer['text'])\n",
    "    #generated_answer = generate_answer(question)\n",
    "    \n",
    "    # Append to lists for evaluation\n",
    "    ground_truths.append([true_answer])  # BLEU expects a list of references\n",
    "    predictions.append(generated_answer)\n",
    "\n",
    "predictions = [pred.replace(\"\\n\", \" \").strip() for pred in predictions]\n",
    "ground_truths = [[ref.replace(\"\\n\", \" \").strip() for ref in ref_list] for ref_list in ground_truths]\n",
    "# Calculate Exact Match and F1 Score\n",
    "em_score = em_metric.compute(predictions=predictions, references=[gt[0] for gt in ground_truths])\n",
    "\n",
    "# Calculate BLEU\n",
    "bleu_score = bleu_metric.compute(predictions=predictions, references=ground_truths)\n",
    "\n",
    "# Calculate ROUGE\n",
    "rouge_score = rouge_metric.compute(predictions=predictions, references=[gt[0] for gt in ground_truths])\n",
    "\n",
    "# Calculate METEOR\n",
    "meteor = meteor_score(ground_truths, predictions)\n",
    "\n",
    "# Print results\n",
    "print(\"Exact Match (EM):\", em_score[\"exact_match\"])\n",
    "print(\"BLEU Score:\", bleu_score[\"bleu\"])\n",
    "print(\"ROUGE Score:\", rouge_score)  # Contains rouge1, rouge2, and rougeL\n",
    "print(\"METEOR Score:\", meteor)\n"
   ]
  }
 ],
 "metadata": {
  "kernelspec": {
   "display_name": "cAI8803-gpu",
   "language": "python",
   "name": "python3"
  },
  "language_info": {
   "codemirror_mode": {
    "name": "ipython",
    "version": 3
   },
   "file_extension": ".py",
   "mimetype": "text/x-python",
   "name": "python",
   "nbconvert_exporter": "python",
   "pygments_lexer": "ipython3",
   "version": "3.10.15"
  }
 },
 "nbformat": 4,
 "nbformat_minor": 2
}
